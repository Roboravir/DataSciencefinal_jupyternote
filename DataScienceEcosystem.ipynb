{
 "cells": [
  {
   "cell_type": "markdown",
   "id": "89ca60cb-97e9-4fa8-b196-5c61b94f99a3",
   "metadata": {},
   "source": [
    "Data Science Tools and Ecosystem"
   ]
  },
  {
   "cell_type": "markdown",
   "id": "d407255a-8648-4038-bcd0-966eb788a52c",
   "metadata": {},
   "source": [
    "# (In this notebook, Data Science Tools and Ecosystem are summarized.)"
   ]
  },
  {
   "cell_type": "markdown",
   "id": "e281518d-cb8d-4a2a-be96-e2c5afef69bc",
   "metadata": {},
   "source": [
    "Some of the popular languages that Data Scientists use are: \n",
    "1.python\n",
    "2.R \n",
    "3.SQL"
   ]
  },
  {
   "cell_type": "markdown",
   "id": "036a0b65-e999-4be5-b9bb-7d504159b982",
   "metadata": {},
   "source": [
    "Some of the commonly used libraries used by Data Scientists include:\n",
    "1.Numpy\n",
    "2.Pandas\n",
    "3.Scikit\n",
    "4.Matplotlib\n"
   ]
  },
  {
   "cell_type": "markdown",
   "id": "a8fe3cf9-bb8e-4d85-b6db-c16984b23dfd",
   "metadata": {},
   "source": [
    "|Data Science Tools|\n",
    "|Jupyter Notebook|\n",
    "|RStudio|\n",
    "|VS Code|\n"
   ]
  },
  {
   "cell_type": "markdown",
   "id": "0608a3af-6dd5-4464-9e53-491abb39cc05",
   "metadata": {},
   "source": [
    "### (Below are a few examples of evaluating arithmetic expressions in Python)\n"
   ]
  },
  {
   "cell_type": "code",
   "execution_count": 1,
   "id": "4dc8beb0-a880-4736-9c2b-6ff0089996cd",
   "metadata": {},
   "outputs": [
    {
     "data": {
      "text/plain": [
       "17"
      ]
     },
     "execution_count": 1,
     "metadata": {},
     "output_type": "execute_result"
    }
   ],
   "source": [
    "# This a simple arithmetic expression to mutiply then add integers\n",
    "(3*4)+5"
   ]
  },
  {
   "cell_type": "code",
   "execution_count": 2,
   "id": "6b445c2c-3be3-40d8-83df-e71104622f35",
   "metadata": {},
   "outputs": [
    {
     "data": {
      "text/plain": [
       "3.3333333333333335"
      ]
     },
     "execution_count": 2,
     "metadata": {},
     "output_type": "execute_result"
    }
   ],
   "source": [
    "# This will convert 200 minutes to hours by diving by 60\n",
    "200 / 60"
   ]
  },
  {
   "cell_type": "markdown",
   "id": "ef1515a3-f7f0-4bf8-a982-27efd7b65e33",
   "metadata": {},
   "source": [
    "**Objectives:**\n",
    "* Data Science Tools and Ecosystem\n",
    "* Some of the commonly used libraries used by Data Scientists\n",
    "* Some of Data Science Tools\n",
    "* Some popular languages for Data Science"
   ]
  },
  {
   "cell_type": "markdown",
   "id": "0e5f9528-4df2-489c-8c20-a53c7c892d9b",
   "metadata": {},
   "source": [
    "## Author ##\n",
    "    Ravi\n"
   ]
  }
 ],
 "metadata": {
  "kernelspec": {
   "display_name": "Python [conda env:base] *",
   "language": "python",
   "name": "conda-base-py"
  },
  "language_info": {
   "codemirror_mode": {
    "name": "ipython",
    "version": 3
   },
   "file_extension": ".py",
   "mimetype": "text/x-python",
   "name": "python",
   "nbconvert_exporter": "python",
   "pygments_lexer": "ipython3",
   "version": "3.12.7"
  }
 },
 "nbformat": 4,
 "nbformat_minor": 5
}
